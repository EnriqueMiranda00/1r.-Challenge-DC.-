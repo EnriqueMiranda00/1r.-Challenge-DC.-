{
  "cells": [
    {
      "cell_type": "markdown",
      "metadata": {
        "id": "RhEdWd9YUR6H"
      },
      "source": [
        "### Importación de datos\n",
        "\n"
      ]
    },
    {
      "cell_type": "code",
      "execution_count": 1,
      "metadata": {
        "colab": {
          "base_uri": "https://localhost:8080/",
          "height": 206
        },
        "id": "T3EvaeQ_INIL",
        "outputId": "e9c5efe1-82a3-43ab-e8d7-6d01e4fa3514"
      },
      "outputs": [
        {
          "data": {
            "text/html": [
              "<div>\n",
              "<style scoped>\n",
              "    .dataframe tbody tr th:only-of-type {\n",
              "        vertical-align: middle;\n",
              "    }\n",
              "\n",
              "    .dataframe tbody tr th {\n",
              "        vertical-align: top;\n",
              "    }\n",
              "\n",
              "    .dataframe thead th {\n",
              "        text-align: right;\n",
              "    }\n",
              "</style>\n",
              "<table border=\"1\" class=\"dataframe\">\n",
              "  <thead>\n",
              "    <tr style=\"text-align: right;\">\n",
              "      <th></th>\n",
              "      <th>Producto</th>\n",
              "      <th>Categoría del Producto</th>\n",
              "      <th>Precio</th>\n",
              "      <th>Costo de envío</th>\n",
              "      <th>Fecha de Compra</th>\n",
              "      <th>Vendedor</th>\n",
              "      <th>Lugar de Compra</th>\n",
              "      <th>Calificación</th>\n",
              "      <th>Método de pago</th>\n",
              "      <th>Cantidad de cuotas</th>\n",
              "      <th>lat</th>\n",
              "      <th>lon</th>\n",
              "    </tr>\n",
              "  </thead>\n",
              "  <tbody>\n",
              "    <tr>\n",
              "      <th>0</th>\n",
              "      <td>Asistente virtual</td>\n",
              "      <td>Electrónicos</td>\n",
              "      <td>164300.0</td>\n",
              "      <td>6900.0</td>\n",
              "      <td>16/01/2021</td>\n",
              "      <td>Pedro Gomez</td>\n",
              "      <td>Bogotá</td>\n",
              "      <td>4</td>\n",
              "      <td>Tarjeta de crédito</td>\n",
              "      <td>8</td>\n",
              "      <td>4.60971</td>\n",
              "      <td>-74.08175</td>\n",
              "    </tr>\n",
              "    <tr>\n",
              "      <th>1</th>\n",
              "      <td>Mesa de comedor</td>\n",
              "      <td>Muebles</td>\n",
              "      <td>192300.0</td>\n",
              "      <td>8400.0</td>\n",
              "      <td>18/05/2022</td>\n",
              "      <td>Beatriz Morales</td>\n",
              "      <td>Medellín</td>\n",
              "      <td>1</td>\n",
              "      <td>Tarjeta de crédito</td>\n",
              "      <td>4</td>\n",
              "      <td>6.25184</td>\n",
              "      <td>-75.56359</td>\n",
              "    </tr>\n",
              "    <tr>\n",
              "      <th>2</th>\n",
              "      <td>Juego de mesa</td>\n",
              "      <td>Juguetes</td>\n",
              "      <td>209600.0</td>\n",
              "      <td>15900.0</td>\n",
              "      <td>15/03/2021</td>\n",
              "      <td>Juan Fernandez</td>\n",
              "      <td>Cartagena</td>\n",
              "      <td>1</td>\n",
              "      <td>Tarjeta de crédito</td>\n",
              "      <td>1</td>\n",
              "      <td>10.39972</td>\n",
              "      <td>-75.51444</td>\n",
              "    </tr>\n",
              "    <tr>\n",
              "      <th>3</th>\n",
              "      <td>Microondas</td>\n",
              "      <td>Electrodomésticos</td>\n",
              "      <td>757500.0</td>\n",
              "      <td>41000.0</td>\n",
              "      <td>03/05/2022</td>\n",
              "      <td>Juan Fernandez</td>\n",
              "      <td>Cali</td>\n",
              "      <td>4</td>\n",
              "      <td>Nequi</td>\n",
              "      <td>1</td>\n",
              "      <td>3.43722</td>\n",
              "      <td>-76.52250</td>\n",
              "    </tr>\n",
              "    <tr>\n",
              "      <th>4</th>\n",
              "      <td>Silla de oficina</td>\n",
              "      <td>Muebles</td>\n",
              "      <td>335200.0</td>\n",
              "      <td>20200.0</td>\n",
              "      <td>07/11/2020</td>\n",
              "      <td>Maria Alfonso</td>\n",
              "      <td>Medellín</td>\n",
              "      <td>5</td>\n",
              "      <td>Nequi</td>\n",
              "      <td>1</td>\n",
              "      <td>6.25184</td>\n",
              "      <td>-75.56359</td>\n",
              "    </tr>\n",
              "  </tbody>\n",
              "</table>\n",
              "</div>"
            ],
            "text/plain": [
              "            Producto Categoría del Producto    Precio  Costo de envío  \\\n",
              "0  Asistente virtual           Electrónicos  164300.0          6900.0   \n",
              "1    Mesa de comedor                Muebles  192300.0          8400.0   \n",
              "2      Juego de mesa               Juguetes  209600.0         15900.0   \n",
              "3         Microondas      Electrodomésticos  757500.0         41000.0   \n",
              "4   Silla de oficina                Muebles  335200.0         20200.0   \n",
              "\n",
              "  Fecha de Compra         Vendedor Lugar de Compra  Calificación  \\\n",
              "0      16/01/2021      Pedro Gomez          Bogotá             4   \n",
              "1      18/05/2022  Beatriz Morales        Medellín             1   \n",
              "2      15/03/2021   Juan Fernandez       Cartagena             1   \n",
              "3      03/05/2022   Juan Fernandez            Cali             4   \n",
              "4      07/11/2020    Maria Alfonso        Medellín             5   \n",
              "\n",
              "       Método de pago  Cantidad de cuotas       lat       lon  \n",
              "0  Tarjeta de crédito                   8   4.60971 -74.08175  \n",
              "1  Tarjeta de crédito                   4   6.25184 -75.56359  \n",
              "2  Tarjeta de crédito                   1  10.39972 -75.51444  \n",
              "3               Nequi                   1   3.43722 -76.52250  \n",
              "4               Nequi                   1   6.25184 -75.56359  "
            ]
          },
          "execution_count": 1,
          "metadata": {},
          "output_type": "execute_result"
        }
      ],
      "source": [
        "import pandas as pd\n",
        "import matplotlib.pyplot as plt\n",
        "from matplotlib.ticker import FuncFormatter\n",
        "import numpy as np\n",
        "\n",
        "url_1 = \"https://raw.githubusercontent.com/Blackpachamame/challenge-alura-store/refs/heads/main/base-de-datos-challenge1-latam/tienda_1.csv\"\n",
        "url_2 = \"https://raw.githubusercontent.com/Blackpachamame/challenge-alura-store/refs/heads/main/base-de-datos-challenge1-latam/tienda_2.csv\"\n",
        "url_3 = \"https://raw.githubusercontent.com/Blackpachamame/challenge-alura-store/refs/heads/main/base-de-datos-challenge1-latam/tienda_3.csv\"\n",
        "url_4 = \"https://raw.githubusercontent.com/Blackpachamame/challenge-alura-store/refs/heads/main/base-de-datos-challenge1-latam/tienda_4.csv\"\n",
        "\n",
        "tienda_1 = pd.read_csv(url_1)\n",
        "tienda_2 = pd.read_csv(url_2)\n",
        "tienda_3 = pd.read_csv(url_3)\n",
        "tienda_4 = pd.read_csv(url_4)\n",
        "\n",
        "tienda_1.head()"
      ]
    },
    {
      "cell_type": "markdown",
      "metadata": {},
      "source": [
        "## 1. Análisis de facturación"
      ]
    },
    {
      "cell_type": "code",
      "execution_count": 2,
      "metadata": {
        "id": "xykobSftV64I"
      },
      "outputs": [
        {
          "name": "stdout",
          "output_type": "stream",
          "text": [
            "[1150880400.0, 1116343500.0, 1098019600.0, 1038375700.0]\n"
          ]
        }
      ],
      "source": [
        "tiendas = [tienda_1, tienda_2, tienda_3, tienda_4]\n",
        "nombres = ['Tienda 1', 'Tienda 2', 'Tienda 3', 'Tienda 4']\n",
        "bar_colors = ['#dadaeb', '#bcbddc', '#9e9ac8', '#756bb1']\n",
        "\n",
        "ingresos_totales = [sum(tienda['Precio']) for tienda in tiendas]\n",
        "print(ingresos_totales)"
      ]
    },
    {
      "cell_type": "code",
      "execution_count": 3,
      "metadata": {
        "id": "KDyr8E71V3m-"
      },
      "outputs": [
        {
          "data": {
            "image/png": "[encoded data removed]",
            "text/plain": [
              "<Figure size 600x400 with 1 Axes>"
            ]
          },
          "metadata": {},
          "output_type": "display_data"
        }
      ],
      "source": [
        "# Definición de las variables a ser graficadas\n",
        "x = nombres\n",
        "y = ingresos_totales\n",
        "\n",
        "# Aplicar formato a números\n",
        "def millones(x, pos=None):\n",
        "    \"\"\"\n",
        "    Esta función convierte un número y le da formato de millones (M) sin decimales\n",
        "    \"\"\"\n",
        "    return f'${x/1_000_000:,.0f}M'\n",
        "\n",
        "# Realizar gráfica de suma total de ventas por tienda\n",
        "fig, ax = plt.subplots(figsize = (6,4))\n",
        "ax.bar(x, y, color = bar_colors)\n",
        "\n",
        "# Uso de la función millones para formatear números en el eje y\n",
        "ax.yaxis.set_major_formatter(FuncFormatter(millones))\n",
        "\n",
        "ax.set_title(\"Ingresos por Tienda\", fontsize=14, fontweight='bold')\n",
        "\n",
        "# Generar etiquetas en las barras\n",
        "# Uso de la función millones para formatear las etiquetas de las barras\n",
        "for i, v in enumerate(y):\n",
        "    ax.text(i, v - 110_000_000, millones(v),\n",
        "        ha='center', va='center',\n",
        "        bbox={'facecolor': 'white', 'alpha': 0.5, 'edgecolor': 'None'})\n",
        "\n",
        "plt.show()\n"
      ]
    },
    {
      "cell_type": "markdown",
      "metadata": {
        "id": "2V_vcAPzWZmR"
      },
      "source": [
        "## 2. Ventas por categoría"
      ]
    },
    {
      "cell_type": "code",
      "execution_count": 4,
      "metadata": {
        "id": "A34YupIuYhfF"
      },
      "outputs": [
        {
          "data": {
            "text/plain": [
              "[                         Cantidad de productos vendidos  Suma total de precios\n",
              " Categoría del Producto                                                        \n",
              " Muebles                                             465            187633700.0\n",
              " Electrónicos                                        448            429493500.0\n",
              " Juguetes                                            324             17995700.0\n",
              " Electrodomésticos                                   312            363685200.0\n",
              " Deportes y diversión                                284             39290000.0\n",
              " Instrumentos musicales                              182             91299000.0\n",
              " Libros                                              173              8784900.0\n",
              " Artículos para el hogar                             171             12698400.0,\n",
              "                          Cantidad de productos vendidos  Suma total de precios\n",
              " Categoría del Producto                                                        \n",
              " Muebles                                             442            176426300.0\n",
              " Electrónicos                                        422            410831100.0\n",
              " Juguetes                                            313             15945400.0\n",
              " Electrodomésticos                                   305            348567800.0\n",
              " Deportes y diversión                                275             34744500.0\n",
              " Instrumentos musicales                              224            104990300.0\n",
              " Libros                                              197             10091200.0\n",
              " Artículos para el hogar                             181             14746900.0,\n",
              "                          Cantidad de productos vendidos  Suma total de precios\n",
              " Categoría del Producto                                                        \n",
              " Muebles                                             499            201072100.0\n",
              " Electrónicos                                        451            410775800.0\n",
              " Juguetes                                            315             19401100.0\n",
              " Electrodomésticos                                   278            329237900.0\n",
              " Deportes y diversión                                277             35593100.0\n",
              " Libros                                              185              9498700.0\n",
              " Artículos para el hogar                             177             15060000.0\n",
              " Instrumentos musicales                              177             77380900.0,\n",
              "                          Cantidad de productos vendidos  Suma total de precios\n",
              " Categoría del Producto                                                        \n",
              " Muebles                                             480            192528900.0\n",
              " Electrónicos                                        451            409476100.0\n",
              " Juguetes                                            338             20262200.0\n",
              " Deportes y diversión                                277             33350100.0\n",
              " Electrodomésticos                                   254            283260200.0\n",
              " Artículos para el hogar                             201             15074500.0\n",
              " Libros                                              187              9321300.0\n",
              " Instrumentos musicales                              170             75102400.0]"
            ]
          },
          "execution_count": 4,
          "metadata": {},
          "output_type": "execute_result"
        }
      ],
      "source": [
        "def obtener_ventas_por_cat(tienda):\n",
        "    cantidad = tienda.groupby('Categoría del Producto').size()\n",
        "    suma_precios = tienda.groupby('Categoría del Producto')['Precio'].sum()\n",
        "    \n",
        "    resumen = pd.DataFrame({\n",
        "        'Cantidad de productos vendidos': cantidad,\n",
        "        'Suma total de precios': suma_precios\n",
        "    }).sort_values(by='Cantidad de productos vendidos', ascending=False)\n",
        "    \n",
        "    return resumen\n",
        "\n",
        "\n",
        "ventas_por_cat = [obtener_ventas_por_cat(tienda) for tienda in tiendas]\n",
        "ventas_por_cat"
      ]
    },
    {
      "cell_type": "code",
      "execution_count": 5,
      "metadata": {
        "id": "yZR6cOjXYSk1"
      },
      "outputs": [
        {
          "data": {
            "image/png": "[encoded data removed]",
            "text/plain": [
              "<Figure size 1400x600 with 1 Axes>"
            ]
          },
          "metadata": {},
          "output_type": "display_data"
        }
      ],
      "source": [
        "# Categorías (ordenadas como en la primera tienda)\n",
        "categorias = ventas_por_cat[0].index.tolist()\n",
        "n_categorias = len(categorias)\n",
        "n_tiendas = len(ventas_por_cat)\n",
        "\n",
        "# Valores por tienda por categoría (solo cantidad de productos vendidos)\n",
        "valores = [\n",
        "    [ventas.loc[cat, 'Cantidad de productos vendidos'] for cat in categorias]\n",
        "    for ventas in ventas_por_cat\n",
        "]\n",
        "\n",
        "# Posiciones X y ancho de barras\n",
        "x = np.arange(n_categorias)\n",
        "width = 0.2\n",
        "\n",
        "# Crear gráfico\n",
        "fig, ax = plt.subplots(figsize=(14, 6))\n",
        "\n",
        "# Dibujar barras y etiquetas\n",
        "for i in range(n_tiendas):\n",
        "    bars = ax.bar(x + i * width, valores[i], width, label=nombres[i], color=bar_colors[i])\n",
        "    \n",
        "    for bar in bars:\n",
        "        height = bar.get_height()\n",
        "        ax.text(\n",
        "            bar.get_x() + bar.get_width() / 2,\n",
        "            height + 2,\n",
        "            f'{int(height)}',\n",
        "            ha='center', va='bottom', fontsize=8\n",
        "        )\n",
        "\n",
        "# Etiquetas y formato\n",
        "ax.set_title('Ventas por Categoría en Cada Tienda', fontsize=14, fontweight='bold')\n",
        "ax.set_xticks(x + width * (n_tiendas - 1) / 2)\n",
        "ax.set_xticklabels(categorias, rotation=45, ha='right')\n",
        "ax.legend()\n",
        "\n",
        "plt.tight_layout()\n",
        "plt.show()"
      ]
    },
    {
      "cell_type": "markdown",
      "metadata": {
        "id": "Rq6tU_xSY3jk"
      },
      "source": [
        "## 3. Calificación promedio de la tienda"
      ]
    },
    {
      "cell_type": "code",
      "execution_count": 6,
      "metadata": {
        "id": "bh3jjjJwY5MU"
      },
      "outputs": [
        {
          "data": {
            "text/plain": [
              "[3.98, 4.04, 4.05, 4.0]"
            ]
          },
          "execution_count": 6,
          "metadata": {},
          "output_type": "execute_result"
        }
      ],
      "source": [
        "calificacion_promedio = [round(sum(tienda['Calificación'])/len(tienda['Calificación']), 2) for tienda in tiendas]\n",
        "calificacion_promedio"
      ]
    },
    {
      "cell_type": "code",
      "execution_count": 7,
      "metadata": {
        "id": "I0KkjPoTY88F"
      },
      "outputs": [
        {
          "data": {
            "image/png": "[encoded data removed]",
            "text/plain": [
              "<Figure size 700x400 with 1 Axes>"
            ]
          },
          "metadata": {},
          "output_type": "display_data"
        }
      ],
      "source": [
        "colores = ['#e07b91', '#4f83cc', '#a67c52', '#00bcd4']  # Personaliza si quieres\n",
        "\n",
        "fig, ax = plt.subplots(figsize=(7, 4))\n",
        "\n",
        "# Gráfico de puntos\n",
        "ax.scatter(calificacion_promedio, nombres, color=colores, s=200, edgecolor='black', zorder=3)\n",
        "\n",
        "# Líneas guía horizontales (opcionales, para estética)\n",
        "for i, cal in enumerate(calificacion_promedio):\n",
        "    ax.hlines(y=nombres[i], xmin=3.5, xmax=cal, color='lightgray', linestyle='--', linewidth=1, zorder=1)\n",
        "\n",
        "# Etiquetas con estrellas\n",
        "for i, cal in enumerate(calificacion_promedio):\n",
        "    estrellas = int(round(cal)) * '★'\n",
        "    ax.text(cal + 0.03, nombres[i], f'{cal:.2f} {estrellas}', va='center', fontsize=11)\n",
        "\n",
        "# Estética del gráfico\n",
        "ax.set_xlim(3.5, 4.2)\n",
        "ax.set_xlabel('Calificación (1 a 5)')\n",
        "ax.set_title('Calificación Promedio por Tienda', fontsize=14, fontweight='bold')\n",
        "ax.grid(axis='x', linestyle='--', alpha=0.3)\n",
        "plt.tight_layout()\n",
        "plt.show()"
      ]
    },
    {
      "cell_type": "markdown",
      "metadata": {
        "id": "DmNp1KPBZCm-"
      },
      "source": [
        "## 4. Productos más y menos vendidos"
      ]
    },
    {
      "cell_type": "code",
      "execution_count": 8,
      "metadata": {
        "id": "qoyjqijQZHfF"
      },
      "outputs": [],
      "source": [
        "def obtener_cantidad_producto(tienda):\n",
        "    return tienda.groupby('Producto').size().sort_values(ascending=False).to_dict()\n",
        "\n",
        "cantidad_de_productos = [obtener_cantidad_producto(tienda) for tienda in tiendas]"
      ]
    },
    {
      "cell_type": "code",
      "execution_count": 9,
      "metadata": {
        "id": "0Sw3sd4IZIGW"
      },
      "outputs": [
        {
          "name": "stdout",
          "output_type": "stream",
          "text": [
            "Resumen de productos más y menos vendidos por tienda:\n"
          ]
        },
        {
          "data": {
            "text/html": [
              "<div>\n",
              "<style scoped>\n",
              "    .dataframe tbody tr th:only-of-type {\n",
              "        vertical-align: middle;\n",
              "    }\n",
              "\n",
              "    .dataframe tbody tr th {\n",
              "        vertical-align: top;\n",
              "    }\n",
              "\n",
              "    .dataframe thead th {\n",
              "        text-align: right;\n",
              "    }\n",
              "</style>\n",
              "<table border=\"1\" class=\"dataframe\">\n",
              "  <thead>\n",
              "    <tr style=\"text-align: right;\">\n",
              "      <th></th>\n",
              "      <th>Tienda</th>\n",
              "      <th>Producto más vendido</th>\n",
              "      <th>Cantidad (más vendido)</th>\n",
              "      <th>Producto menos vendido</th>\n",
              "      <th>Cantidad (menos vendido)</th>\n",
              "    </tr>\n",
              "  </thead>\n",
              "  <tbody>\n",
              "    <tr>\n",
              "      <th>0</th>\n",
              "      <td>Tienda 1</td>\n",
              "      <td>Armario</td>\n",
              "      <td>60</td>\n",
              "      <td>Celular ABXY</td>\n",
              "      <td>33</td>\n",
              "    </tr>\n",
              "    <tr>\n",
              "      <th>1</th>\n",
              "      <td>Tienda 2</td>\n",
              "      <td>Iniciando en programación</td>\n",
              "      <td>65</td>\n",
              "      <td>Juego de mesa</td>\n",
              "      <td>32</td>\n",
              "    </tr>\n",
              "    <tr>\n",
              "      <th>2</th>\n",
              "      <td>Tienda 3</td>\n",
              "      <td>Kit de bancas</td>\n",
              "      <td>57</td>\n",
              "      <td>Bloques de construcción</td>\n",
              "      <td>35</td>\n",
              "    </tr>\n",
              "    <tr>\n",
              "      <th>3</th>\n",
              "      <td>Tienda 4</td>\n",
              "      <td>Cama box</td>\n",
              "      <td>62</td>\n",
              "      <td>Guitarra eléctrica</td>\n",
              "      <td>33</td>\n",
              "    </tr>\n",
              "  </tbody>\n",
              "</table>\n",
              "</div>"
            ],
            "text/plain": [
              "     Tienda       Producto más vendido  Cantidad (más vendido)  \\\n",
              "0  Tienda 1                    Armario                      60   \n",
              "1  Tienda 2  Iniciando en programación                      65   \n",
              "2  Tienda 3              Kit de bancas                      57   \n",
              "3  Tienda 4                   Cama box                      62   \n",
              "\n",
              "    Producto menos vendido  Cantidad (menos vendido)  \n",
              "0             Celular ABXY                        33  \n",
              "1            Juego de mesa                        32  \n",
              "2  Bloques de construcción                        35  \n",
              "3       Guitarra eléctrica                        33  "
            ]
          },
          "metadata": {},
          "output_type": "display_data"
        }
      ],
      "source": [
        "# Extraer el producto más y menos vendido de cada tienda\n",
        "productos_extremos = []\n",
        "\n",
        "for tienda in cantidad_de_productos:\n",
        "    producto_max = max(tienda, key=tienda.get)\n",
        "    producto_min = min(tienda, key=tienda.get)\n",
        "    productos_extremos.append({\n",
        "        'max_producto': producto_max,\n",
        "        'max_valor': tienda[producto_max],\n",
        "        'min_producto': producto_min,\n",
        "        'min_valor': tienda[producto_min]\n",
        "    })\n",
        "\n",
        "# Preparar datos para el gráfico\n",
        "max_productos = [item['max_producto'] for item in productos_extremos]\n",
        "max_valores = [item['max_valor'] for item in productos_extremos]\n",
        "\n",
        "min_productos = [item['min_producto'] for item in productos_extremos]\n",
        "min_valores = [item['min_valor'] for item in productos_extremos]\n",
        "\n",
        "# Crear tabla resumen con nombres completos\n",
        "tabla_resumen = pd.DataFrame({\n",
        "    'Tienda': nombres,\n",
        "    'Producto más vendido': max_productos,\n",
        "    'Cantidad (más vendido)': max_valores,\n",
        "    'Producto menos vendido': min_productos,\n",
        "    'Cantidad (menos vendido)': min_valores\n",
        "})\n",
        "\n",
        "# Mostrar tabla\n",
        "print(\"Resumen de productos más y menos vendidos por tienda:\")\n",
        "display(tabla_resumen)\n"
      ]
    },
    {
      "cell_type": "markdown",
      "metadata": {
        "id": "Fl0cGi3bZKqU"
      },
      "source": [
        "## 5. Envío promedio por tienda"
      ]
    },
    {
      "cell_type": "code",
      "execution_count": 10,
      "metadata": {
        "id": "S2JeaCykZNy9"
      },
      "outputs": [
        {
          "name": "stdout",
          "output_type": "stream",
          "text": [
            "[np.float64(26018.61), np.float64(25216.24), np.float64(24805.68), np.float64(23459.46)]\n"
          ]
        }
      ],
      "source": [
        "envio_promedio = [round(tienda['Costo de envío'].mean(), 2) for tienda in tiendas]\n",
        "print(envio_promedio)"
      ]
    },
    {
      "cell_type": "markdown",
      "metadata": {},
      "source": [
        "## Resumen"
      ]
    },
    {
      "cell_type": "code",
      "execution_count": 11,
      "metadata": {
        "id": "0tSdCie9ZQlt"
      },
      "outputs": [
        {
          "data": {
            "text/html": [
              "<div>\n",
              "<style scoped>\n",
              "    .dataframe tbody tr th:only-of-type {\n",
              "        vertical-align: middle;\n",
              "    }\n",
              "\n",
              "    .dataframe tbody tr th {\n",
              "        vertical-align: top;\n",
              "    }\n",
              "\n",
              "    .dataframe thead th {\n",
              "        text-align: right;\n",
              "    }\n",
              "</style>\n",
              "<table border=\"1\" class=\"dataframe\">\n",
              "  <thead>\n",
              "    <tr style=\"text-align: right;\">\n",
              "      <th></th>\n",
              "      <th>Tienda</th>\n",
              "      <th>Productos Vendidos</th>\n",
              "      <th>Ingresos Totales ($)</th>\n",
              "      <th>Costo Envío Total ($)</th>\n",
              "      <th>Ganancia Neta ($)</th>\n",
              "      <th>Ticket Promedio ($)</th>\n",
              "      <th>Calificación Promedio</th>\n",
              "      <th>Envío Promedio ($)</th>\n",
              "    </tr>\n",
              "  </thead>\n",
              "  <tbody>\n",
              "    <tr>\n",
              "      <th>0</th>\n",
              "      <td>Tienda 1</td>\n",
              "      <td>2359</td>\n",
              "      <td>1.150880e+09</td>\n",
              "      <td>61377900.0</td>\n",
              "      <td>1.089502e+09</td>\n",
              "      <td>487867.91</td>\n",
              "      <td>3.98</td>\n",
              "      <td>26018.61</td>\n",
              "    </tr>\n",
              "    <tr>\n",
              "      <th>1</th>\n",
              "      <td>Tienda 2</td>\n",
              "      <td>2359</td>\n",
              "      <td>1.116344e+09</td>\n",
              "      <td>59485100.0</td>\n",
              "      <td>1.056858e+09</td>\n",
              "      <td>473227.43</td>\n",
              "      <td>4.04</td>\n",
              "      <td>25216.24</td>\n",
              "    </tr>\n",
              "    <tr>\n",
              "      <th>2</th>\n",
              "      <td>Tienda 3</td>\n",
              "      <td>2359</td>\n",
              "      <td>1.098020e+09</td>\n",
              "      <td>58516600.0</td>\n",
              "      <td>1.039503e+09</td>\n",
              "      <td>465459.77</td>\n",
              "      <td>4.05</td>\n",
              "      <td>24805.68</td>\n",
              "    </tr>\n",
              "    <tr>\n",
              "      <th>3</th>\n",
              "      <td>Tienda 4</td>\n",
              "      <td>2358</td>\n",
              "      <td>1.038376e+09</td>\n",
              "      <td>55317400.0</td>\n",
              "      <td>9.830583e+08</td>\n",
              "      <td>440362.89</td>\n",
              "      <td>4.00</td>\n",
              "      <td>23459.46</td>\n",
              "    </tr>\n",
              "  </tbody>\n",
              "</table>\n",
              "</div>"
            ],
            "text/plain": [
              "     Tienda  Productos Vendidos  Ingresos Totales ($)  Costo Envío Total ($)  \\\n",
              "0  Tienda 1                2359          1.150880e+09             61377900.0   \n",
              "1  Tienda 2                2359          1.116344e+09             59485100.0   \n",
              "2  Tienda 3                2359          1.098020e+09             58516600.0   \n",
              "3  Tienda 4                2358          1.038376e+09             55317400.0   \n",
              "\n",
              "   Ganancia Neta ($)  Ticket Promedio ($)  Calificación Promedio  \\\n",
              "0       1.089502e+09            487867.91                   3.98   \n",
              "1       1.056858e+09            473227.43                   4.04   \n",
              "2       1.039503e+09            465459.77                   4.05   \n",
              "3       9.830583e+08            440362.89                   4.00   \n",
              "\n",
              "   Envío Promedio ($)  \n",
              "0            26018.61  \n",
              "1            25216.24  \n",
              "2            24805.68  \n",
              "3            23459.46  "
            ]
          },
          "execution_count": 11,
          "metadata": {},
          "output_type": "execute_result"
        }
      ],
      "source": [
        "resumen_tiendas = []\n",
        "\n",
        "for i, tienda in enumerate(tiendas):\n",
        "    nombre = nombres[i]\n",
        "    \n",
        "    productos_vendidos = len(tienda)\n",
        "    ingresos = tienda['Precio'].sum()\n",
        "    costo_envio_total = tienda['Costo de envío'].sum()\n",
        "    ganancia_neta = ingresos - costo_envio_total\n",
        "    ticket_prom = tienda['Precio'].mean()\n",
        "    calificacion_prom = tienda['Calificación'].mean()\n",
        "    envio_prom = tienda['Costo de envío'].mean()\n",
        "    \n",
        "    resumen_tiendas.append({\n",
        "        'Tienda': nombre,\n",
        "        'Productos Vendidos': productos_vendidos,\n",
        "        'Ingresos Totales ($)': round(ingresos, 2),\n",
        "        'Costo Envío Total ($)': round(costo_envio_total, 2),\n",
        "        'Ganancia Neta ($)': round(ganancia_neta, 2),\n",
        "        'Ticket Promedio ($)': round(ticket_prom, 2),\n",
        "        'Calificación Promedio': round(calificacion_prom, 2),\n",
        "        'Envío Promedio ($)': round(envio_prom, 2)\n",
        "    })\n",
        "\n",
        "# Crear DataFrame\n",
        "df_resumen = pd.DataFrame(resumen_tiendas)\n",
        "\n",
        "# Ordenar por ganancia neta (opcional)\n",
        "df_resumen = df_resumen.sort_values(by='Ganancia Neta ($)', ascending=False)\n",
        "\n",
        "# Mostrar tabla\n",
        "df_resumen.reset_index(drop=True, inplace=True)\n",
        "df_resumen\n"
      ]
    },
    {
      "cell_type": "markdown",
      "metadata": {},
      "source": [
        "## Recomendación"
      ]
    },
    {
      "cell_type": "markdown",
      "metadata": {},
      "source": [
        "La Tienda 4 es la menos rentable de las 4, con la ganancia neta más baja, el ticket promedio más bajo y una calificación un poco por debajo de las otras tiendas. Por estos motivos, se recomienda que el Sr. Juan considere vender Tienda 4 para liberar recursos y mejorar la eficiencia de la empresa."
      ]
    }
  ],
  "metadata": {
    "colab": {
      "provenance": []
    },
    "kernelspec": {
      "display_name": "Python 3",
      "name": "python3"
    },
    "language_info": {
      "codemirror_mode": {
        "name": "ipython",
        "version": 3
      },
      "file_extension": ".py",
      "mimetype": "text/x-python",
      "name": "python",
      "nbconvert_exporter": "python",
      "pygments_lexer": "ipython3",
      "version": "3.13.3"
    }
  },
  "nbformat": 4,
  "nbformat_minor": 0
}
